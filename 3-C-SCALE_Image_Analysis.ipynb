{
 "cells": [
  {
   "cell_type": "markdown",
   "id": "4bc1ae33-871f-46ff-827d-80204d8fea1b",
   "metadata": {},
   "source": [
    "# Sentinel-2 satellite image analysis"
   ]
  },
  {
   "cell_type": "markdown",
   "id": "f3a13165-e31f-48a2-8183-1bf7905f8586",
   "metadata": {},
   "source": [
    "This notebook intends to show couple ideas how to analyse satellite images using different spectral bands and visualising the output."
   ]
  },
  {
   "cell_type": "code",
   "execution_count": null,
   "id": "c6863f7e-6b8c-4160-8460-77956fde47ba",
   "metadata": {},
   "outputs": [],
   "source": [
    "import os\n",
    "import numpy as np\n",
    "from matplotlib import pyplot as plt\n",
    "from cscale_notebooks_functions import load_sentinel_image, display_rgb, image_rgb, normalized_difference, plot_masked_rgb, resampling"
   ]
  },
  {
   "cell_type": "code",
   "execution_count": null,
   "id": "f6c905c4-dfc3-43cd-88dd-133ef4014e6f",
   "metadata": {},
   "outputs": [],
   "source": [
    "# Choose folder where are your downloaded satelite images  \n",
    "img_folder = \"/images/clipped/\"\n",
    "path = os.path.abspath(\"\")\n",
    "folder_img = path + img_folder"
   ]
  },
  {
   "cell_type": "markdown",
   "id": "825c0436-9ff7-4329-826e-4a94232e0d19",
   "metadata": {},
   "source": [
    "Different channels has different resolution, so it needs to be resampled in order to be able to put them together. You can check the channel resolution [here](https://sentinels.copernicus.eu/web/sentinel/user-guides/sentinel-2-msi/resolutions/spatial).\n",
    "\n",
    "In case of L1C data we need to resample channels B05, B06, B11 and B12 with the factor of 2 and B09 with factor 6."
   ]
  },
  {
   "cell_type": "code",
   "execution_count": null,
   "id": "08702202-859d-4019-b339-ad55324b764f",
   "metadata": {},
   "outputs": [],
   "source": [
    "file_temp = \"B02.tif\"\n",
    "file_res = [\"B05.tif\", \"B06.tif\", \"B11.tif\", \"B12.tif\"]"
   ]
  },
  {
   "cell_type": "code",
   "execution_count": null,
   "id": "d768c021-de70-409b-9086-24245f1ff91f",
   "metadata": {},
   "outputs": [],
   "source": [
    "for n in range(len(file_res)):\n",
    "    resampled = resampling(folder_img,file_temp,file_res[n],2)"
   ]
  },
  {
   "cell_type": "markdown",
   "id": "85c14818-3444-460f-856c-c91bfa02bbf3",
   "metadata": {},
   "source": [
    "NOTE: In case of L1C data the channel B09 is resampled with factor of 6, whereas L2A data needs resampling of ONLY channel B09 with the factor of 3!"
   ]
  },
  {
   "cell_type": "code",
   "execution_count": null,
   "id": "14f8a6bb-da7a-4cfb-b261-9b5c88a0ce8e",
   "metadata": {},
   "outputs": [],
   "source": [
    "file_temp = \"B02.tif\"\n",
    "file_res = [\"B09.tif\", \"B10.tif\"]\n",
    "\n",
    "for n in range(len(file_res)):\n",
    "    resampled_09 = resampling(folder_img,file_temp,file_res[n],6)"
   ]
  },
  {
   "cell_type": "markdown",
   "id": "768f4823-1b48-439b-a271-8269dc710df6",
   "metadata": {},
   "source": [
    "NOTE: In case of L1C data we need to enter B05_res, B06_res channels. For L2A just B05 and B06."
   ]
  },
  {
   "cell_type": "code",
   "execution_count": null,
   "id": "0af4b030-1fe1-49b3-b8dc-bda01ca20391",
   "metadata": {},
   "outputs": [],
   "source": [
    "img_rgb = load_sentinel_image(folder_img, [\"B02\", \"B03\", \"B04\"])\n",
    "img_nir = load_sentinel_image(folder_img, [\"B03\", \"B04\", \"B06_res\"])\n",
    "\n",
    "rgb = image_rgb(img_rgb, 'B04', 'B03', 'B02', alpha=5.)\n",
    "nir = image_rgb(img_nir, 'B06_res', 'B04', 'B03', alpha=5.)"
   ]
  },
  {
   "cell_type": "markdown",
   "id": "c46ebd70-d1df-4d70-9e20-a01f9c5c0ed6",
   "metadata": {},
   "source": [
    "We can compute spectral index using different bands. In this notebook we calculate Normalized Difference (ND) index using custom function. ND index is defined as:\n",
    "\n",
    "$$ \n",
    "ND = (Band1 - Band2)/ (Band1 + Band2) \n",
    "$$\n",
    "\n",
    "Here we calculate two indexes, where different areas are emphasized."
   ]
  },
  {
   "cell_type": "code",
   "execution_count": null,
   "id": "e2b769a6-0219-4244-8d7b-ae88d1ced317",
   "metadata": {},
   "outputs": [],
   "source": [
    "img_nir2 = load_sentinel_image(folder_img, [\"B03\", \"B04\", \"B08\"])\n",
    "\n",
    "# Calculating two indices\n",
    "ndvi = normalized_difference(img_nir2, 'B08', 'B04')\n",
    "mndwi = normalized_difference(img_nir2, 'B03', 'B08')"
   ]
  },
  {
   "cell_type": "code",
   "execution_count": null,
   "id": "145fe46c-c0d3-44fb-aafb-cb1460a47415",
   "metadata": {},
   "outputs": [],
   "source": [
    "from matplotlib import pyplot as plt\n",
    "# checking the images\n",
    "fig, ax = plt.subplots(2, 2, figsize=(20, 15))\n",
    "\n",
    "fontsize=16\n",
    "ax = ax.flatten()\n",
    "\n",
    "ax[0].imshow((rgb*255).astype(np.uint8), interpolation='none')\n",
    "ax[0].axis('off')\n",
    "ax[0].set_title('Color Image', fontsize=fontsize)\n",
    "\n",
    "ax[1].imshow((nir*255).astype(np.uint8), interpolation='none')\n",
    "ax[1].axis('off')\n",
    "ax[1].set_title('NIR', fontsize=fontsize)\n",
    "\n",
    "ax[2].imshow(ndvi, cmap='Greens', interpolation='none')\n",
    "ax[2].axis('off')\n",
    "ax[2].set_title('NDVI', fontsize=fontsize)\n",
    "\n",
    "ax[3].imshow(mndwi, cmap='Blues', interpolation='none') # * 255).astype(np.uint8)\n",
    "ax[3].axis('off')\n",
    "ax[3].set_title('MNDWI', fontsize=fontsize)\n",
    "\n",
    "plt.subplots_adjust(wspace=0.1, hspace=0.1)\n",
    "\n",
    "plt.show()"
   ]
  },
  {
   "cell_type": "markdown",
   "id": "8b489bd0-eaa8-465e-947c-77c006a378d2",
   "metadata": {},
   "source": [
    "Colour image is a true colour image, what one can observe for example from a plane. NIR image is more sensitive to different kind of vegetation and water areas. NDVI index gives a better response (higher values = greener because of the colormap we applied) over the vegetation areas and the MNDWI has a higher response (higher values = bluer because of the ‘Blues’ colormap) for water areas like rivers.\n",
    "\n",
    "We can create mask for water areas using MNDWI index. Setting threshold for this index we can display only pixels with higher value representing water area and zero value for the rest. It needs to be adjusted for different data."
   ]
  },
  {
   "cell_type": "code",
   "execution_count": null,
   "id": "1bd64189-a70f-48ae-b93d-332403ded5be",
   "metadata": {},
   "outputs": [],
   "source": [
    "import ipywidgets as widgets\n",
    "from ipywidgets import interactive\n",
    "\n",
    "def watermask(treshold):\n",
    "    water_mask = mndwi > treshold\n",
    "    \n",
    "    plt.figure(figsize=(10,10))\n",
    "    plt.imshow(water_mask)\n",
    "    plt.axis(\"off\")\n",
    "    plt.show()\n",
    "    return water_mask\n",
    "\n",
    "water_mask = interactive(watermask, treshold = (-0.5,0.5,0.01))\n",
    "display(water_mask)"
   ]
  },
  {
   "cell_type": "code",
   "execution_count": null,
   "id": "99216f63-e49a-48bc-8677-89fa7c270e47",
   "metadata": {},
   "outputs": [],
   "source": [
    "mask = water_mask.result\n",
    "shape = img_rgb['B02'].shape\n",
    "mask = mask[:shape[0], :shape[1]]\n",
    "\n",
    "mask = np.where(img_rgb['B02'] == 0, 0, mask)\n",
    "\n",
    "masked_rgb = plot_masked_rgb(red=img_rgb['B04'],\n",
    "                             green=img_rgb['B03'],\n",
    "                             blue=img_rgb['B02'],\n",
    "                             mask=mask,\n",
    "                             color_mask=(0, 0.6, 1),\n",
    "                             transparency=0.0,\n",
    "                             brightness=4\n",
    "                            )\n",
    "\n",
    "plt.figure(figsize=(15, 10))\n",
    "plt.imshow((masked_rgb * 255).astype(np.uint8))\n",
    "plt.axis(\"off\")\n",
    "plt.show()"
   ]
  },
  {
   "cell_type": "markdown",
   "id": "b84819ac-443d-47b2-84d3-9dff02e94d45",
   "metadata": {},
   "source": [
    "We can play more with the bands and their order while displaying.\n",
    "\n",
    "In case of L1C data we need to enter B12_res and B11_res. L2A just B12 and B11."
   ]
  },
  {
   "cell_type": "code",
   "execution_count": null,
   "id": "76a17130-03c5-4f5e-aa3d-86cd5186fb4b",
   "metadata": {},
   "outputs": [],
   "source": [
    "img = load_sentinel_image(folder_img, [\"B03\", \"B04\", \"B12_res\"])\n",
    "rgb = image_rgb(img, 'B12_res', 'B03', 'B04', alpha=5.)\n",
    "bgr = image_rgb(img, 'B04', 'B12_res', 'B03', alpha=5.)\n",
    "\n",
    "fig, ax = plt.subplots(1, 2, figsize=(20, 15))\n",
    "ax[0].imshow((rgb* 255).astype(np.uint8), cmap='Greens')\n",
    "ax[0].axis('off')\n",
    "ax[1].imshow((bgr* 255).astype(np.uint8), cmap='Blues')\n",
    "ax[1].axis('off')\n",
    "plt.show()"
   ]
  },
  {
   "cell_type": "markdown",
   "id": "71646a8f-7204-4246-9883-34dd9ed2ff6c",
   "metadata": {},
   "source": [
    "## We can narrow down our analysis for a city region."
   ]
  },
  {
   "cell_type": "code",
   "execution_count": null,
   "id": "d104e04b-bdca-4dfa-853a-1ef5697f6c97",
   "metadata": {
    "tags": []
   },
   "outputs": [],
   "source": [
    "import geopandas as gpd\n",
    "import rasterio\n",
    "from rasterio.plot import show\n",
    "from cscale_notebooks_functions import coor_converter\n",
    "\n",
    "coor_converter(\"geojson/prague.geojson\",\"geojson/prague_GPScut.geojson\",32633)\n",
    "\n",
    "Prague_reg = \"geojson/prague_GPScut.geojson\"\n",
    "\n",
    "gdf = gpd.read_file(Prague_reg)\n",
    "\n",
    "rgb_tci = rasterio.open(folder_img + \"TCI.tif\")"
   ]
  },
  {
   "cell_type": "code",
   "execution_count": null,
   "id": "bee9ce30-5a4d-4b8e-80d8-af6b99f5268e",
   "metadata": {},
   "outputs": [],
   "source": [
    "import matplotlib.pyplot as plt\n",
    "\n",
    "fig, ax = plt.subplots(figsize=(10, 7))\n",
    "show(rgb_tci,ax=ax)\n",
    "gdf.plot(ax=ax, color='yellow', alpha=.3, aspect=1)\n",
    "plt.axis(\"off\")\n",
    "plt.show()"
   ]
  },
  {
   "cell_type": "code",
   "execution_count": null,
   "id": "050d5049-2a33-40bb-99f5-c615ffdd14f6",
   "metadata": {},
   "outputs": [],
   "source": [
    "import os\n",
    "from cscale_notebooks_functions import clipper\n",
    "#directory = \"Prague_sunny_clipped/\"\n",
    "roicut_path = path + \"/images/cut_out/\"\n",
    "if os.path.isdir(roicut_path) != True:\n",
    "    os.mkdir(roicut_path)"
   ]
  },
  {
   "cell_type": "code",
   "execution_count": null,
   "id": "273abfb7-d051-4f22-821a-bf017b407810",
   "metadata": {},
   "outputs": [],
   "source": [
    "clipper(folder_img, Prague_reg, roicut_path, whole = \"yes\")"
   ]
  },
  {
   "cell_type": "markdown",
   "id": "67bc78b7-8c62-4534-9dc5-c891679d44c8",
   "metadata": {},
   "source": [
    "## We can look for parks, water surfaces or buildings in city area"
   ]
  },
  {
   "cell_type": "code",
   "execution_count": null,
   "id": "7432ffc0-1aa9-4d31-b26f-92db963a14c2",
   "metadata": {},
   "outputs": [],
   "source": [
    "img = load_sentinel_image(roicut_path, [\"B03\", \"B04\", \"B09_res\"])\n",
    "img1 = load_sentinel_image(roicut_path, [\"B03\", \"B04\", \"B09_res\"])\n",
    "rgb = image_rgb(img, 'B03', 'B04', 'B09_res', alpha=5.5)\n",
    "bgr = image_rgb(img1, 'B04', 'B09_res', 'B03', alpha=5.5)\n",
    "\n",
    "fig, ax = plt.subplots(1, 2, figsize=(25, 20))\n",
    "ax[0].imshow((rgb* 255).astype(np.uint8))\n",
    "ax[0].axis('off')\n",
    "ax[1].imshow((bgr* 255).astype(np.uint8))\n",
    "ax[1].axis('off')\n",
    "plt.show()"
   ]
  },
  {
   "cell_type": "markdown",
   "id": "0a810daa-5b7c-453d-a409-666e51b5aeaa",
   "metadata": {},
   "source": [
    "## Setting mask for green areas"
   ]
  },
  {
   "cell_type": "code",
   "execution_count": null,
   "id": "d1c35693-e4a0-4aa0-b2b5-86c90cf83664",
   "metadata": {},
   "outputs": [],
   "source": [
    "diff = normalized_difference(img,'B09_res','B03',)\n",
    "\n",
    "plt.figure(figsize=(5,5))\n",
    "plt.imshow(diff, cmap = 'Greens_r')\n",
    "plt.axis(\"off\")\n",
    "plt.show()"
   ]
  },
  {
   "cell_type": "markdown",
   "id": "cb8f4d40-c220-463e-ad55-90aca5d42f7c",
   "metadata": {},
   "source": [
    "Value of masks needs to be adjusted."
   ]
  },
  {
   "cell_type": "code",
   "execution_count": null,
   "id": "84b53a5a-72d5-4816-baec-b17f75fa0e47",
   "metadata": {},
   "outputs": [],
   "source": [
    "import ipywidgets as widgets\n",
    "from ipywidgets import interactive\n",
    "\n",
    "def greenmask(treshold):\n",
    "    green_mask = diff > treshold\n",
    "    \n",
    "    plt.figure(figsize=(10,10))\n",
    "    plt.imshow(green_mask)\n",
    "    plt.axis(\"off\")\n",
    "    plt.show()\n",
    "    return green_mask\n",
    "\n",
    "gm = interactive(greenmask, treshold = (-1.0,1.0,0.01))\n",
    "display(gm)"
   ]
  },
  {
   "cell_type": "markdown",
   "id": "5300b95c-e26d-4a1f-97d3-7c37e74c19eb",
   "metadata": {},
   "source": [
    "## Overlay image with highlighted green and water areas"
   ]
  },
  {
   "cell_type": "code",
   "execution_count": null,
   "id": "59d44ab4-9094-45b1-adf6-c63732d12e90",
   "metadata": {},
   "outputs": [],
   "source": [
    "img_crgb = load_sentinel_image(roicut_path, [\"B02\", \"B03\", \"B04\"])\n",
    "mask = gm.result\n",
    "shape = img_crgb['B02'].shape\n",
    "mask = mask[:shape[0], :shape[1]]\n",
    "\n",
    "mask = np.where(img_crgb['B02'] == 0, 0, mask)\n",
    " \n",
    "masked_crgb = plot_masked_rgb(red=img_crgb['B04'],\n",
    "                             green=img_crgb['B03'],\n",
    "                             blue=img_crgb['B02'],\n",
    "                             mask=mask,\n",
    "                             color_mask=(0.3, 0.7, 0),\n",
    "                             transparency=0.1,\n",
    "                             brightness=4\n",
    "                            )\n",
    "\n",
    "plt.figure(figsize=(10, 5))\n",
    "plt.imshow((masked_crgb * 255).astype(np.uint8))\n",
    "plt.axis(\"off\")\n",
    "plt.show()"
   ]
  },
  {
   "cell_type": "markdown",
   "id": "962ed3fc-5e74-4bca-b7bf-db89055712ba",
   "metadata": {},
   "source": [
    "Adding water_mask."
   ]
  },
  {
   "cell_type": "code",
   "execution_count": null,
   "id": "2f875117-547d-4433-9556-104e2fb68338",
   "metadata": {},
   "outputs": [],
   "source": [
    "img_nir2 = load_sentinel_image(roicut_path, [\"B03\", \"B04\", \"B08\"])\n",
    "\n",
    "mndwi = normalized_difference(img_nir2, 'B03', 'B08')\n",
    "\n",
    "def watermask(treshold):\n",
    "    water_mask_crgb = mndwi > treshold\n",
    "    \n",
    "    plt.figure(figsize=(10,5))\n",
    "    plt.imshow(water_mask_crgb)\n",
    "    plt.axis(\"off\")\n",
    "    plt.show()\n",
    "    return water_mask_crgb\n",
    "\n",
    "wm = interactive(watermask, treshold = (-0.5,0.5,0.01))\n",
    "display(wm)"
   ]
  },
  {
   "cell_type": "code",
   "execution_count": null,
   "id": "c33a6561-d63f-4d20-b376-39118796a1a3",
   "metadata": {},
   "outputs": [],
   "source": [
    "mask = wm.result\n",
    "masked_rgb_trees = masked_crgb\n",
    "shape = masked_rgb_trees[:,:,0].shape\n",
    "mask = mask[:shape[0], :shape[1]]\n",
    "\n",
    "mask = np.where(masked_rgb_trees[:,:,0] == 0, 0, mask)\n",
    "\n",
    "masked_rgb_wt = plot_masked_rgb(masked_rgb_trees[:,:,0],masked_rgb_trees[:,:,1],masked_rgb_trees[:,:,2],\n",
    "                             mask=mask,\n",
    "                             color_mask=(0.1, 0.7, 1),\n",
    "                             transparency=0,\n",
    "                             brightness=4.\n",
    "                            )\n",
    "\n",
    "plt.figure(figsize=(10, 5))\n",
    "plt.imshow((masked_rgb_wt * 255).astype(np.uint8))\n",
    "plt.axis(\"off\")\n",
    "plt.show()"
   ]
  },
  {
   "cell_type": "markdown",
   "id": "8c80682f-18b0-4636-afb1-c6812e84c7ac",
   "metadata": {},
   "source": [
    "## Saving images into TIF file."
   ]
  },
  {
   "cell_type": "code",
   "execution_count": null,
   "id": "a432f560-fb39-4991-a585-87f3a633ebd8",
   "metadata": {},
   "outputs": [],
   "source": [
    "from PIL import Image\n",
    "img_overlay = Image.fromarray((masked_rgb_wt * 255).astype(np.uint8), \"RGB\")\n",
    "\n",
    "#Choose image name\n",
    "image_filename = \"Prague_overlay.tif\"\n",
    "\n",
    "img_overlay.save(image_filename)\n",
    "print(f\"Image has been saved to {image_filename} file\")"
   ]
  },
  {
   "cell_type": "markdown",
   "id": "a6c94643-3afb-4eaf-8bfb-9f7cc4e8180e",
   "metadata": {},
   "source": [
    "File can be loaded again using [matplotlib](https://matplotlib.org/stable/api/_as_gen/matplotlib.pyplot.imshow.html)."
   ]
  },
  {
   "cell_type": "code",
   "execution_count": null,
   "id": "e2ed0be0-ac82-4278-9cf5-74c9bba76827",
   "metadata": {},
   "outputs": [],
   "source": [
    "img = plt.imread(image_filename)\n",
    "plt.imshow(img)"
   ]
  },
  {
   "cell_type": "code",
   "execution_count": null,
   "id": "7ab0ef8f-fef4-4087-9757-e6ab809ba37a",
   "metadata": {},
   "outputs": [],
   "source": []
  }
 ],
 "metadata": {
  "kernelspec": {
   "display_name": "Python 3 (ipykernel)",
   "language": "python",
   "name": "python3"
  },
  "language_info": {
   "codemirror_mode": {
    "name": "ipython",
    "version": 3
   },
   "file_extension": ".py",
   "mimetype": "text/x-python",
   "name": "python",
   "nbconvert_exporter": "python",
   "pygments_lexer": "ipython3",
   "version": "3.10.6"
  },
  "toc-autonumbering": false,
  "toc-showcode": false,
  "toc-showmarkdowntxt": false,
  "widgets": {
   "application/vnd.jupyter.widget-state+json": {
    "state": {},
    "version_major": 2,
    "version_minor": 0
   }
  }
 },
 "nbformat": 4,
 "nbformat_minor": 5
}
